{
 "cells": [
  {
   "cell_type": "code",
   "execution_count": 17,
   "id": "c2c6107a5a046dac",
   "metadata": {
    "ExecuteTime": {
     "end_time": "2023-11-20T03:05:39.842290568Z",
     "start_time": "2023-11-20T03:05:38.386448454Z"
    },
    "collapsed": false,
    "jupyter": {
     "outputs_hidden": false
    }
   },
   "outputs": [],
   "source": [
    "import math\n",
    "import torch\n",
    "import torch.nn as nn\n",
    "import numpy as np\n",
    "from model import GPT, GPTConfig\n",
    "from context_free_grammar import CFG\n",
    "import wandb"
   ]
  },
  {
   "cell_type": "code",
   "execution_count": 18,
   "id": "1f46ae49-4b78-47ab-9e0b-b88dcad2b8f5",
   "metadata": {
    "ExecuteTime": {
     "end_time": "2023-11-02T05:37:05.885231370Z",
     "start_time": "2023-11-02T05:37:05.737058587Z"
    }
   },
   "outputs": [
    {
     "data": {
      "text/plain": [
       "True"
      ]
     },
     "execution_count": 18,
     "metadata": {},
     "output_type": "execute_result"
    }
   ],
   "source": [
    "wandb.login()"
   ]
  },
  {
   "cell_type": "code",
   "execution_count": 19,
   "id": "05ffd0ef-b258-4da3-bc4e-003b2874a415",
   "metadata": {
    "ExecuteTime": {
     "end_time": "2023-11-03T08:03:10.872172956Z",
     "start_time": "2023-11-03T08:03:10.850554826Z"
    }
   },
   "outputs": [],
   "source": [
    "cfg = CFG(L=3, ns=[1, 3, 9, 10], nr=[2, 2, 2], T=[8, 8, 8])\n",
    "sentence_length = np.prod(cfg.T)"
   ]
  },
  {
   "cell_type": "code",
   "execution_count": 20,
   "id": "099a5b58-a460-4803-a8dd-3969ea261e54",
   "metadata": {
    "ExecuteTime": {
     "end_time": "2023-11-16T02:33:54.726129957Z",
     "start_time": "2023-11-16T02:33:54.581451925Z"
    }
   },
   "outputs": [
    {
     "name": "stdout",
     "output_type": "stream",
     "text": [
      "number of parameters: 10.63M\n"
     ]
    }
   ],
   "source": [
    "config = GPTConfig(vocab_size=cfg.ns[-1],\n",
    "                   block_size=sentence_length-1,\n",
    "                   n_embd=384, n_head=6,\n",
    "                   n_layer=6,\n",
    "                   batch_size=100)\n",
    "m = GPT(config)\n",
    "m = nn.DataParallel(m)\n",
    "m = m.to(config.device)"
   ]
  },
  {
   "cell_type": "code",
   "execution_count": 21,
   "id": "51508252-d263-4f81-8847-b6ae457a0f55",
   "metadata": {},
   "outputs": [
    {
     "name": "stdout",
     "output_type": "stream",
     "text": [
      "10.824192 M parameters\n"
     ]
    }
   ],
   "source": [
    " # print the number of parameters in the model\n",
    "million_params = sum(p.numel() for p in m.parameters()) / 1e6\n",
    "print(million_params, \"M parameters\")"
   ]
  },
  {
   "cell_type": "markdown",
   "id": "b764eef5-f30b-4082-bc06-bae923d26a03",
   "metadata": {},
   "source": [
    "### Define some useful functions for training/validation steps"
   ]
  },
  {
   "cell_type": "code",
   "execution_count": 22,
   "id": "d452081b-3a2a-4bcd-80d1-aca0246612e9",
   "metadata": {},
   "outputs": [],
   "source": [
    "# data loading = sample new sentences to fill-in the mini-batch\n",
    "def get_batch(config: GPTConfig = GPTConfig()):\n",
    "    data, _ = cfg.sample(config.batch_size)        # dropping labels (useless for the task)\n",
    "    N = data.shape[0]                              # should be equal to config.batch_size\n",
    "    data = data.view(N,sentence_length)            # flatten them to be (N,sentence_length)\n",
    "    x = data[:, 0:sentence_length-1]               # (bsz,sentence_length-1)\n",
    "    y = data[:, 1:sentence_length].contiguous()    # (bsz,sentence_length-1)\n",
    "    x, y = x.to(config.device), y.to(config.device)\n",
    "    return x, y"
   ]
  },
  {
   "cell_type": "code",
   "execution_count": 23,
   "id": "853bde6d-4131-46fc-82cf-4b17c049038f",
   "metadata": {},
   "outputs": [],
   "source": [
    "@torch.no_grad()\n",
    "def estimate_loss(m, eval_iters=100):\n",
    "    # This validation function samples a new batch of sentences and evaluates the loss of the model\n",
    "    # Takes 20s for 100 sentences\n",
    "    m.eval()\n",
    "    losses = torch.zeros(eval_iters)\n",
    "    for k in range(eval_iters):\n",
    "        X, Y = get_batch()\n",
    "        logits = m(X)\n",
    "        loss = nn.functional.cross_entropy(logits.view(-1, logits.size(-1)), Y.view(-1), ignore_index=-1)\n",
    "        losses[k] = loss.item()\n",
    "    return losses.mean().item()"
   ]
  },
  {
   "cell_type": "code",
   "execution_count": 24,
   "id": "a29c9235-0fa6-4baa-bf50-67bcbd583eb3",
   "metadata": {},
   "outputs": [],
   "source": [
    "@torch.no_grad()\n",
    "def eval_errors(m, n_gen=100, context_length=3):\n",
    "    # for generating sentences from the model, we first sample real sentences from the grammar\n",
    "    # then, the model is given the first 'context_length' symbols and asked to complete the sentence\n",
    "    # Takes 40s for 100 sentences\n",
    "    if isinstance(m, nn.DataParallel):\n",
    "        m = m.module\n",
    "    \n",
    "    m.eval()\n",
    "    context = cfg.sample(n_gen)[0].view(n_gen, sentence_length)[:,:context_length].to(config.device)\n",
    "    gen_sentences = m.generate(context, max_new_tokens= sentence_length - context_length, temperature=0.1)\n",
    "\n",
    "    # compute accuracy \n",
    "    gen_sentences = gen_sentences.view([n_gen] +  cfg.T).cpu()\n",
    "    acc = cfg.frac_of_gramatically_correct_sentences(gen_sentences)  \n",
    "    \n",
    "    # compute per-level errors\n",
    "    # a sentence can only be good at level i if it was good at all levels beteewn L and i+1\n",
    "    correct_sentences = np.zeros(cfg.L)\n",
    "    for sentence in gen_sentences:\n",
    "        _, err = cfg.collapse_and_get_err(sentence)\n",
    "        for i in range(len(err)-1,-1, -1):\n",
    "            if err[i].sum() != 0:\n",
    "                break\n",
    "            else:\n",
    "                correct_sentences[i] += 1\n",
    "                \n",
    "    return acc, np.array(correct_sentences) / n_gen * 100"
   ]
  },
  {
   "cell_type": "code",
   "execution_count": 25,
   "id": "d6f1ca8f-75d9-496e-9122-8eb17915f525",
   "metadata": {},
   "outputs": [
    {
     "name": "stdout",
     "output_type": "stream",
     "text": [
      "[tensor([0]), tensor([[1, 0, 0, 0, 0, 0, 0, 0]]), tensor([[[0, 0, 0, 0, 0, 0, 0, 0],\n",
      "         [0, 0, 0, 0, 0, 0, 0, 0],\n",
      "         [0, 0, 0, 0, 0, 0, 0, 0],\n",
      "         [0, 0, 0, 0, 0, 0, 0, 0],\n",
      "         [0, 0, 0, 0, 0, 0, 0, 0],\n",
      "         [0, 0, 0, 0, 0, 0, 0, 0],\n",
      "         [0, 0, 0, 0, 0, 0, 0, 0],\n",
      "         [0, 0, 0, 0, 0, 0, 0, 0]]])]\n",
      "[0. 0. 1.]\n"
     ]
    }
   ],
   "source": [
    "sentence = cfg.sample(1)[0].view(1, sentence_length).to(config.device)\n",
    "sentence[0,:8] = sentence[0,8:16]\n",
    "sentence = sentence.view([1] +  cfg.T).cpu()\n",
    "_, err = cfg.collapse_and_get_err(sentence)\n",
    "print(err)\n",
    "correct_sentences = np.zeros(cfg.L)\n",
    "for i in range(len(err)-1,-1, -1):\n",
    "    if err[i].sum() != 0:\n",
    "        break\n",
    "    else:\n",
    "        correct_sentences[i] += 1\n",
    "print(correct_sentences)"
   ]
  },
  {
   "cell_type": "markdown",
   "id": "92c277c0-dbd4-452b-ade3-ef15d69ef908",
   "metadata": {},
   "source": [
    "### Learning rate scheduler"
   ]
  },
  {
   "cell_type": "code",
   "execution_count": 26,
   "id": "87f10904-40ed-4d6f-bf87-3fb5a63f9e46",
   "metadata": {},
   "outputs": [],
   "source": [
    "def get_lr(i,i_final):\n",
    "    coeff = 0.5 * (1.0 + math.cos(math.pi * i/i_final)) # decays from 1 to 0 \n",
    "    return min_lr + coeff * (max_lr - min_lr)"
   ]
  },
  {
   "cell_type": "markdown",
   "id": "b287f600-131d-4e5c-925c-51b93a53a59d",
   "metadata": {},
   "source": [
    "### Training parameters"
   ]
  },
  {
   "cell_type": "code",
   "execution_count": 27,
   "id": "d647d6ae-3db2-456a-a3f5-37fc2ddf4417",
   "metadata": {},
   "outputs": [
    {
     "name": "stdout",
     "output_type": "stream",
     "text": [
      "num decayed parameter tensors: 128, with 10,816,896 parameters\n",
      "num non-decayed parameter tensors: 19, with 7,296 parameters\n"
     ]
    }
   ],
   "source": [
    "# adamw optimizer\n",
    "max_lr = 6e-4 # max learning rate\n",
    "min_lr = max_lr/10\n",
    "decay_lr = True\n",
    "\n",
    "weight_decay = 1e-1\n",
    "beta1 = 0.9\n",
    "beta2 = 0.95\n",
    "grad_clip = 1.0 # clip gradients at this value, or disable if == 0.0\n",
    "\n",
    "optimizer = m.module.configure_optimizers(weight_decay, max_lr, (beta1, beta2), device_type='cuda')"
   ]
  },
  {
   "cell_type": "code",
   "execution_count": 28,
   "id": "5f111d8f-2b28-4bdb-908b-edbb34e70150",
   "metadata": {},
   "outputs": [],
   "source": [
    "training_parameters = {'num_epoch': 200,\n",
    "                       'batches_per_epoch': 50,\n",
    "                       'eval_iters': 100,\n",
    "                       'quality_metric_iters': 100,\n",
    "                       'learning_rate': 6e-4, # Start lr\n",
    "                       'architecture': f'GPT {million_params:.1f}M',\n",
    "                       'grammar': cfg.__str__(),\n",
    "                       'batch_size':config.batch_size,}"
   ]
  },
  {
   "cell_type": "code",
   "execution_count": 29,
   "id": "d352a020-b5cf-4996-9d4a-f9af56be809a",
   "metadata": {},
   "outputs": [],
   "source": [
    "# Training loop\n",
    "# 1 epoch (train + val) is 1m20s\n",
    "def train(m):\n",
    "    print(f'One epoch is {training_parameters[\"batches_per_epoch\"]} steps,' +\n",
    "    f'validation loss is computed at the end of every epoch and quality metric is '+\n",
    "    f'averaged over {training_parameters[\"quality_metric_iters\"]} sentences')\n",
    "    print(f'Will run for {training_parameters[\"num_epoch\"]} epochs')\n",
    "    total_num_iter = training_parameters['num_epoch'] * training_parameters['batches_per_epoch']\n",
    "    for epoch in range(training_parameters['num_epoch']):\n",
    "        train_loss_sum = .0\n",
    "        m.train()\n",
    "        # determine and set the learning rate for this epoch\n",
    "        lr = get_lr(epoch, training_parameters['num_epoch']) if decay_lr else max_lr\n",
    "        for param_group in optimizer.param_groups:\n",
    "            param_group['lr'] = lr\n",
    "        for iter in range(training_parameters['batches_per_epoch']):\n",
    "            # sample a batch of data\n",
    "            xb, yb = get_batch(config)\n",
    "            # evaluate the loss\n",
    "            optimizer.zero_grad()\n",
    "            logits = m(xb)\n",
    "            loss = nn.functional.cross_entropy(logits.view(-1, logits.size(-1)), yb.view(-1), ignore_index=-1)\n",
    "            train_loss_sum += loss.item()\n",
    "            loss.backward()\n",
    "            optimizer.step()\n",
    "        # evaluate the loss on newly generated sentences at the end of every epoch\n",
    "        train_loss = train_loss_sum / config.batch_size\n",
    "        val_loss = estimate_loss(m, training_parameters[\"eval_iters\"])\n",
    "        acc, errors = eval_errors(m, training_parameters['quality_metric_iters'], context_length=3)\n",
    "        log_dict = {\"nb sentences seen\": (epoch+1)*training_parameters['batches_per_epoch']*config.batch_size,\n",
    "                    \"val_loss\": val_loss,\n",
    "                    \"train_loss\": train_loss,\n",
    "                    \"accuracy\": acc * 100,\n",
    "                    \"learning_rate\": optimizer.param_groups[0][\"lr\"]}\n",
    "        for i,err in enumerate(errors):\n",
    "            log_dict[f'% of correct sentences at level {i}'] = err\n",
    "        \n",
    "        if epoch epoch % 10 == 0:\n",
    "            formatted_stats = ', '.join(f'{key}: {value}' for key, value in log_dict.items())\n",
    "            print(formatted_stats)\n",
    "        wandb.log(log_dict)"
   ]
  },
  {
   "cell_type": "code",
   "execution_count": null,
   "id": "995d5739-902c-4a28-a12c-b06c35a66ff5",
   "metadata": {},
   "outputs": [
    {
     "data": {
      "text/html": [
       "wandb version 0.16.0 is available!  To upgrade, please run:\n",
       " $ pip install wandb --upgrade"
      ],
      "text/plain": [
       "<IPython.core.display.HTML object>"
      ]
     },
     "metadata": {},
     "output_type": "display_data"
    },
    {
     "data": {
      "text/html": [
       "Tracking run with wandb version 0.15.11"
      ],
      "text/plain": [
       "<IPython.core.display.HTML object>"
      ]
     },
     "metadata": {},
     "output_type": "display_data"
    },
    {
     "data": {
      "text/html": [
       "Run data is saved locally in <code>/home/adrien/CFGProject/wandb/run-20231117_142930-hdvntfo2</code>"
      ],
      "text/plain": [
       "<IPython.core.display.HTML object>"
      ]
     },
     "metadata": {},
     "output_type": "display_data"
    },
    {
     "data": {
      "text/html": [
       "Syncing run <strong><a href='https://wandb.ai/aboitrea/CFG-Comparison/runs/hdvntfo2' target=\"_blank\">GPT 19.2M temp=0.1 multi gpu</a></strong> to <a href='https://wandb.ai/aboitrea/CFG-Comparison' target=\"_blank\">Weights & Biases</a> (<a href='https://wandb.me/run' target=\"_blank\">docs</a>)<br/>"
      ],
      "text/plain": [
       "<IPython.core.display.HTML object>"
      ]
     },
     "metadata": {},
     "output_type": "display_data"
    },
    {
     "data": {
      "text/html": [
       " View project at <a href='https://wandb.ai/aboitrea/CFG-Comparison' target=\"_blank\">https://wandb.ai/aboitrea/CFG-Comparison</a>"
      ],
      "text/plain": [
       "<IPython.core.display.HTML object>"
      ]
     },
     "metadata": {},
     "output_type": "display_data"
    },
    {
     "data": {
      "text/html": [
       " View run at <a href='https://wandb.ai/aboitrea/CFG-Comparison/runs/hdvntfo2' target=\"_blank\">https://wandb.ai/aboitrea/CFG-Comparison/runs/hdvntfo2</a>"
      ],
      "text/plain": [
       "<IPython.core.display.HTML object>"
      ]
     },
     "metadata": {},
     "output_type": "display_data"
    },
    {
     "name": "stdout",
     "output_type": "stream",
     "text": [
      "One epoch is 50 steps,validation loss is computed at the end of every epoch and quality metric is averaged over 100 sentences\n",
      "Will run for 2000 epochs\n",
      "{'nb sentences seen': 5000, 'val_loss': 2.0059401988983154, 'train_loss': 1.1706782388687134, 'accuracy': 0.0, 'learning_rate': 0.0005999999999999998, '% of correct sentences at level 0': 0.0, '% of correct sentences at level 1': 0.0, '% of correct sentences at level 2': 0.0}\n",
      "{'nb sentences seen': 10000, 'val_loss': 0.9509196281433105, 'train_loss': 0.7600473469495773, 'accuracy': 0.0, 'learning_rate': 0.0005999996669009198, '% of correct sentences at level 0': 0.0, '% of correct sentences at level 1': 0.0, '% of correct sentences at level 2': 0.0}\n",
      "{'nb sentences seen': 15000, 'val_loss': 0.36324116587638855, 'train_loss': 0.2917539095878601, 'accuracy': 0.0, 'learning_rate': 0.0005999986676045017, '% of correct sentences at level 0': 0.0, '% of correct sentences at level 1': 0.0, '% of correct sentences at level 2': 0.0}\n",
      "{'nb sentences seen': 20000, 'val_loss': 0.2031327784061432, 'train_loss': 0.13593934193253518, 'accuracy': 0.0, 'learning_rate': 0.0005999970021132108, '% of correct sentences at level 0': 0.0, '% of correct sentences at level 1': 0.0, '% of correct sentences at level 2': 0.0}\n",
      "{'nb sentences seen': 25000, 'val_loss': 0.14047552645206451, 'train_loss': 0.08754717156291009, 'accuracy': 0.0, 'learning_rate': 0.000599994670431157, '% of correct sentences at level 0': 0.0, '% of correct sentences at level 1': 0.0, '% of correct sentences at level 2': 0.0}\n",
      "{'nb sentences seen': 30000, 'val_loss': 0.12518033385276794, 'train_loss': 0.08674035280942917, 'accuracy': 5.0, 'learning_rate': 0.0005999916725640932, '% of correct sentences at level 0': 5.0, '% of correct sentences at level 1': 5.0, '% of correct sentences at level 2': 5.0}\n",
      "{'nb sentences seen': 35000, 'val_loss': 0.152345672249794, 'train_loss': 0.06923572756350041, 'accuracy': 0.0, 'learning_rate': 0.0005999880085194164, '% of correct sentences at level 0': 0.0, '% of correct sentences at level 1': 0.0, '% of correct sentences at level 2': 0.0}\n",
      "{'nb sentences seen': 40000, 'val_loss': 0.10626046359539032, 'train_loss': 0.05754766158759594, 'accuracy': 46.0, 'learning_rate': 0.0005999836783061672, '% of correct sentences at level 0': 46.0, '% of correct sentences at level 1': 46.0, '% of correct sentences at level 2': 46.0}\n",
      "{'nb sentences seen': 45000, 'val_loss': 0.10377536714076996, 'train_loss': 0.056841018348932265, 'accuracy': 77.0, 'learning_rate': 0.0005999786819350303, '% of correct sentences at level 0': 77.0, '% of correct sentences at level 1': 77.0, '% of correct sentences at level 2': 77.0}\n",
      "{'nb sentences seen': 50000, 'val_loss': 0.10134921222925186, 'train_loss': 0.05576249957084656, 'accuracy': 89.0, 'learning_rate': 0.0005999730194183334, '% of correct sentences at level 0': 89.0, '% of correct sentences at level 1': 89.0, '% of correct sentences at level 2': 89.0}\n",
      "{'nb sentences seen': 55000, 'val_loss': 0.10916438698768616, 'train_loss': 0.055150147527456284, 'accuracy': 73.0, 'learning_rate': 0.0005999666907700483, '% of correct sentences at level 0': 73.0, '% of correct sentences at level 1': 73.0, '% of correct sentences at level 2': 73.0}\n",
      "{'nb sentences seen': 60000, 'val_loss': 0.11750174313783646, 'train_loss': 0.052487281560897825, 'accuracy': 12.0, 'learning_rate': 0.0005999596960057903, '% of correct sentences at level 0': 12.0, '% of correct sentences at level 1': 12.0, '% of correct sentences at level 2': 12.0}\n",
      "{'nb sentences seen': 65000, 'val_loss': 0.09928794950246811, 'train_loss': 0.052555425092577934, 'accuracy': 98.0, 'learning_rate': 0.0005999520351428183, '% of correct sentences at level 0': 98.0, '% of correct sentences at level 1': 98.0, '% of correct sentences at level 2': 98.0}\n",
      "{'nb sentences seen': 70000, 'val_loss': 0.10029365867376328, 'train_loss': 0.05296672597527504, 'accuracy': 93.0, 'learning_rate': 0.0005999437082000348, '% of correct sentences at level 0': 93.0, '% of correct sentences at level 1': 93.0, '% of correct sentences at level 2': 93.0}\n",
      "{'nb sentences seen': 75000, 'val_loss': 0.11109250038862228, 'train_loss': 0.052714464664459226, 'accuracy': 31.0, 'learning_rate': 0.0005999347151979856, '% of correct sentences at level 0': 31.0, '% of correct sentences at level 1': 31.0, '% of correct sentences at level 2': 31.0}\n",
      "{'nb sentences seen': 80000, 'val_loss': 0.09915278106927872, 'train_loss': 0.05023734606802464, 'accuracy': 90.0, 'learning_rate': 0.00059992505615886, '% of correct sentences at level 0': 90.0, '% of correct sentences at level 1': 90.0, '% of correct sentences at level 2': 90.0}\n",
      "{'nb sentences seen': 85000, 'val_loss': 0.09987814724445343, 'train_loss': 0.05215184316039086, 'accuracy': 87.0, 'learning_rate': 0.0005999147311064909, '% of correct sentences at level 0': 87.0, '% of correct sentences at level 1': 87.0, '% of correct sentences at level 2': 87.0}\n",
      "{'nb sentences seen': 90000, 'val_loss': 0.11946187168359756, 'train_loss': 0.0519172977656126, 'accuracy': 3.0, 'learning_rate': 0.0005999037400663541, '% of correct sentences at level 0': 3.0, '% of correct sentences at level 1': 3.0, '% of correct sentences at level 2': 3.0}\n",
      "{'nb sentences seen': 95000, 'val_loss': 0.09811955690383911, 'train_loss': 0.05054910331964493, 'accuracy': 99.0, 'learning_rate': 0.000599892083065569, '% of correct sentences at level 0': 99.0, '% of correct sentences at level 1': 99.0, '% of correct sentences at level 2': 99.0}\n",
      "{'nb sentences seen': 100000, 'val_loss': 0.0998346358537674, 'train_loss': 0.05047664120793342, 'accuracy': 88.0, 'learning_rate': 0.0005998797601328985, '% of correct sentences at level 0': 88.0, '% of correct sentences at level 1': 88.0, '% of correct sentences at level 2': 88.0}\n",
      "{'nb sentences seen': 105000, 'val_loss': 0.09948642551898956, 'train_loss': 0.04967848375439644, 'accuracy': 85.0, 'learning_rate': 0.0005998667712987474, '% of correct sentences at level 0': 85.0, '% of correct sentences at level 1': 85.0, '% of correct sentences at level 2': 87.0}\n",
      "{'nb sentences seen': 110000, 'val_loss': 0.09885991364717484, 'train_loss': 0.051127681732177736, 'accuracy': 83.0, 'learning_rate': 0.000599853116595165, '% of correct sentences at level 0': 83.0, '% of correct sentences at level 1': 83.0, '% of correct sentences at level 2': 83.0}\n",
      "{'nb sentences seen': 115000, 'val_loss': 0.10133771598339081, 'train_loss': 0.04972613133490086, 'accuracy': 53.0, 'learning_rate': 0.0005998387960558427, '% of correct sentences at level 0': 53.0, '% of correct sentences at level 1': 53.0, '% of correct sentences at level 2': 54.0}\n",
      "{'nb sentences seen': 120000, 'val_loss': 0.10330509394407272, 'train_loss': 0.051226599738001824, 'accuracy': 57.99999999999999, 'learning_rate': 0.0005998238097161149, '% of correct sentences at level 0': 57.99999999999999, '% of correct sentences at level 1': 57.99999999999999, '% of correct sentences at level 2': 57.99999999999999}\n",
      "{'nb sentences seen': 125000, 'val_loss': 0.09827768057584763, 'train_loss': 0.04958953022956848, 'accuracy': 85.0, 'learning_rate': 0.000599808157612959, '% of correct sentences at level 0': 85.0, '% of correct sentences at level 1': 85.0, '% of correct sentences at level 2': 85.0}\n",
      "{'nb sentences seen': 130000, 'val_loss': 0.1031128317117691, 'train_loss': 0.05080077655613422, 'accuracy': 48.0, 'learning_rate': 0.0005997918397849951, '% of correct sentences at level 0': 48.0, '% of correct sentences at level 1': 48.0, '% of correct sentences at level 2': 49.0}\n",
      "{'nb sentences seen': 135000, 'val_loss': 0.09879458695650101, 'train_loss': 0.04943980105221271, 'accuracy': 95.0, 'learning_rate': 0.0005997748562724856, '% of correct sentences at level 0': 95.0, '% of correct sentences at level 1': 95.0, '% of correct sentences at level 2': 95.0}\n",
      "{'nb sentences seen': 140000, 'val_loss': 0.09852771461009979, 'train_loss': 0.04991165496408939, 'accuracy': 92.0, 'learning_rate': 0.0005997572071173361, '% of correct sentences at level 0': 92.0, '% of correct sentences at level 1': 92.0, '% of correct sentences at level 2': 93.0}\n",
      "{'nb sentences seen': 145000, 'val_loss': 0.09945160895586014, 'train_loss': 0.049414527639746665, 'accuracy': 73.0, 'learning_rate': 0.0005997388923630936, '% of correct sentences at level 0': 73.0, '% of correct sentences at level 1': 73.0, '% of correct sentences at level 2': 74.0}\n",
      "{'nb sentences seen': 150000, 'val_loss': 0.09825986623764038, 'train_loss': 0.04914836272597313, 'accuracy': 83.0, 'learning_rate': 0.0005997199120549481, '% of correct sentences at level 0': 83.0, '% of correct sentences at level 1': 83.0, '% of correct sentences at level 2': 91.0}\n",
      "{'nb sentences seen': 155000, 'val_loss': 0.09890080243349075, 'train_loss': 0.0508139967918396, 'accuracy': 76.0, 'learning_rate': 0.0005997002662397318, '% of correct sentences at level 0': 76.0, '% of correct sentences at level 1': 76.0, '% of correct sentences at level 2': 76.0}\n",
      "{'nb sentences seen': 160000, 'val_loss': 0.09893707185983658, 'train_loss': 0.04905988447368145, 'accuracy': 91.0, 'learning_rate': 0.0005996799549659185, '% of correct sentences at level 0': 91.0, '% of correct sentences at level 1': 91.0, '% of correct sentences at level 2': 91.0}\n",
      "{'nb sentences seen': 165000, 'val_loss': 0.09809809923171997, 'train_loss': 0.050026277378201485, 'accuracy': 96.0, 'learning_rate': 0.0005996589782836246, '% of correct sentences at level 0': 96.0, '% of correct sentences at level 1': 96.0, '% of correct sentences at level 2': 96.0}\n",
      "{'nb sentences seen': 170000, 'val_loss': 0.10554330050945282, 'train_loss': 0.04920897960662842, 'accuracy': 14.000000000000002, 'learning_rate': 0.0005996373362446078, '% of correct sentences at level 0': 14.000000000000002, '% of correct sentences at level 1': 14.000000000000002, '% of correct sentences at level 2': 14.000000000000002}\n",
      "{'nb sentences seen': 175000, 'val_loss': 0.09804399311542511, 'train_loss': 0.04927530117332935, 'accuracy': 94.0, 'learning_rate': 0.0005996150289022675, '% of correct sentences at level 0': 94.0, '% of correct sentences at level 1': 94.0, '% of correct sentences at level 2': 94.0}\n",
      "{'nb sentences seen': 180000, 'val_loss': 0.09792616218328476, 'train_loss': 0.0497513534873724, 'accuracy': 96.0, 'learning_rate': 0.0005995920563116452, '% of correct sentences at level 0': 96.0, '% of correct sentences at level 1': 96.0, '% of correct sentences at level 2': 96.0}\n",
      "{'nb sentences seen': 185000, 'val_loss': 0.09779321402311325, 'train_loss': 0.04894711442291737, 'accuracy': 94.0, 'learning_rate': 0.0005995684185294231, '% of correct sentences at level 0': 94.0, '% of correct sentences at level 1': 94.0, '% of correct sentences at level 2': 94.0}\n",
      "{'nb sentences seen': 190000, 'val_loss': 0.09818872809410095, 'train_loss': 0.04988464556634426, 'accuracy': 70.0, 'learning_rate': 0.0005995441156139254, '% of correct sentences at level 0': 70.0, '% of correct sentences at level 1': 70.0, '% of correct sentences at level 2': 70.0}\n",
      "{'nb sentences seen': 195000, 'val_loss': 0.09813665598630905, 'train_loss': 0.04898512236773968, 'accuracy': 81.0, 'learning_rate': 0.0005995191476251172, '% of correct sentences at level 0': 81.0, '% of correct sentences at level 1': 81.0, '% of correct sentences at level 2': 81.0}\n",
      "{'nb sentences seen': 200000, 'val_loss': 0.09796703606843948, 'train_loss': 0.04919185183942318, 'accuracy': 95.0, 'learning_rate': 0.000599493514624604, '% of correct sentences at level 0': 95.0, '% of correct sentences at level 1': 95.0, '% of correct sentences at level 2': 95.0}\n",
      "{'nb sentences seen': 205000, 'val_loss': 0.0981469377875328, 'train_loss': 0.04909610532224178, 'accuracy': 83.0, 'learning_rate': 0.0005994672166756332, '% of correct sentences at level 0': 83.0, '% of correct sentences at level 1': 83.0, '% of correct sentences at level 2': 83.0}\n",
      "{'nb sentences seen': 210000, 'val_loss': 0.09785880148410797, 'train_loss': 0.04901583522558212, 'accuracy': 94.0, 'learning_rate': 0.0005994402538430921, '% of correct sentences at level 0': 94.0, '% of correct sentences at level 1': 94.0, '% of correct sentences at level 2': 94.0}\n",
      "{'nb sentences seen': 215000, 'val_loss': 0.0978296771645546, 'train_loss': 0.04928690612316131, 'accuracy': 91.0, 'learning_rate': 0.0005994126261935091, '% of correct sentences at level 0': 91.0, '% of correct sentences at level 1': 91.0, '% of correct sentences at level 2': 91.0}\n",
      "{'nb sentences seen': 220000, 'val_loss': 0.09815087914466858, 'train_loss': 0.04960981547832489, 'accuracy': 90.0, 'learning_rate': 0.0005993843337950525, '% of correct sentences at level 0': 90.0, '% of correct sentences at level 1': 90.0, '% of correct sentences at level 2': 90.0}\n",
      "{'nb sentences seen': 225000, 'val_loss': 0.09811686724424362, 'train_loss': 0.04891908802092075, 'accuracy': 76.0, 'learning_rate': 0.0005993553767175306, '% of correct sentences at level 0': 76.0, '% of correct sentences at level 1': 76.0, '% of correct sentences at level 2': 76.0}\n",
      "{'nb sentences seen': 230000, 'val_loss': 0.09784039855003357, 'train_loss': 0.04906812086701393, 'accuracy': 98.0, 'learning_rate': 0.0005993257550323929, '% of correct sentences at level 0': 98.0, '% of correct sentences at level 1': 98.0, '% of correct sentences at level 2': 98.0}\n",
      "{'nb sentences seen': 235000, 'val_loss': 0.09788428246974945, 'train_loss': 0.04899258829653263, 'accuracy': 86.0, 'learning_rate': 0.0005992954688127273, '% of correct sentences at level 0': 86.0, '% of correct sentences at level 1': 86.0, '% of correct sentences at level 2': 86.0}\n",
      "{'nb sentences seen': 240000, 'val_loss': 0.09772434085607529, 'train_loss': 0.04910369776189327, 'accuracy': 91.0, 'learning_rate': 0.0005992645181332624, '% of correct sentences at level 0': 91.0, '% of correct sentences at level 1': 91.0, '% of correct sentences at level 2': 91.0}\n",
      "{'nb sentences seen': 245000, 'val_loss': 0.09858813136816025, 'train_loss': 0.04897861048579216, 'accuracy': 92.0, 'learning_rate': 0.0005992329030703656, '% of correct sentences at level 0': 92.0, '% of correct sentences at level 1': 92.0, '% of correct sentences at level 2': 92.0}\n",
      "{'nb sentences seen': 250000, 'val_loss': 0.09759027510881424, 'train_loss': 0.04956131510436535, 'accuracy': 96.0, 'learning_rate': 0.0005992006237020443, '% of correct sentences at level 0': 96.0, '% of correct sentences at level 1': 96.0, '% of correct sentences at level 2': 96.0}\n",
      "{'nb sentences seen': 255000, 'val_loss': 0.09762270748615265, 'train_loss': 0.04888030134141445, 'accuracy': 100.0, 'learning_rate': 0.0005991676801079444, '% of correct sentences at level 0': 100.0, '% of correct sentences at level 1': 100.0, '% of correct sentences at level 2': 100.0}\n",
      "{'nb sentences seen': 260000, 'val_loss': 0.09827243536710739, 'train_loss': 0.04900511741638183, 'accuracy': 84.0, 'learning_rate': 0.000599134072369351, '% of correct sentences at level 0': 84.0, '% of correct sentences at level 1': 84.0, '% of correct sentences at level 2': 84.0}\n",
      "{'nb sentences seen': 265000, 'val_loss': 0.09793010354042053, 'train_loss': 0.04914779156446457, 'accuracy': 100.0, 'learning_rate': 0.0005990998005691878, '% of correct sentences at level 0': 100.0, '% of correct sentences at level 1': 100.0, '% of correct sentences at level 2': 100.0}\n",
      "{'nb sentences seen': 270000, 'val_loss': 0.09814204275608063, 'train_loss': 0.04902339719235897, 'accuracy': 93.0, 'learning_rate': 0.0005990648647920174, '% of correct sentences at level 0': 93.0, '% of correct sentences at level 1': 93.0, '% of correct sentences at level 2': 93.0}\n",
      "{'nb sentences seen': 275000, 'val_loss': 0.0977989211678505, 'train_loss': 0.04888410642743111, 'accuracy': 95.0, 'learning_rate': 0.0005990292651240397, '% of correct sentences at level 0': 95.0, '% of correct sentences at level 1': 95.0, '% of correct sentences at level 2': 95.0}\n",
      "{'nb sentences seen': 280000, 'val_loss': 0.09836156666278839, 'train_loss': 0.048966457024216654, 'accuracy': 88.0, 'learning_rate': 0.000598993001653094, '% of correct sentences at level 0': 88.0, '% of correct sentences at level 1': 88.0, '% of correct sentences at level 2': 88.0}\n",
      "{'nb sentences seen': 285000, 'val_loss': 0.09754548221826553, 'train_loss': 0.049010433182120325, 'accuracy': 96.0, 'learning_rate': 0.0005989560744686564, '% of correct sentences at level 0': 96.0, '% of correct sentences at level 1': 96.0, '% of correct sentences at level 2': 96.0}\n",
      "{'nb sentences seen': 290000, 'val_loss': 0.0980522558093071, 'train_loss': 0.04894821748137474, 'accuracy': 86.0, 'learning_rate': 0.0005989184836618412, '% of correct sentences at level 0': 86.0, '% of correct sentences at level 1': 86.0, '% of correct sentences at level 2': 86.0}\n",
      "{'nb sentences seen': 295000, 'val_loss': 0.09764723479747772, 'train_loss': 0.04895809419453144, 'accuracy': 91.0, 'learning_rate': 0.0005988802293254, '% of correct sentences at level 0': 91.0, '% of correct sentences at level 1': 91.0, '% of correct sentences at level 2': 91.0}\n",
      "{'nb sentences seen': 300000, 'val_loss': 0.09783139824867249, 'train_loss': 0.04896684169769287, 'accuracy': 92.0, 'learning_rate': 0.0005988413115537215, '% of correct sentences at level 0': 92.0, '% of correct sentences at level 1': 92.0, '% of correct sentences at level 2': 92.0}\n",
      "{'nb sentences seen': 305000, 'val_loss': 0.09795906394720078, 'train_loss': 0.04894116714596748, 'accuracy': 87.0, 'learning_rate': 0.0005988017304428316, '% of correct sentences at level 0': 87.0, '% of correct sentences at level 1': 87.0, '% of correct sentences at level 2': 87.0}\n",
      "{'nb sentences seen': 310000, 'val_loss': 0.09780114889144897, 'train_loss': 0.048821985721588135, 'accuracy': 98.0, 'learning_rate': 0.0005987614860903925, '% of correct sentences at level 0': 98.0, '% of correct sentences at level 1': 98.0, '% of correct sentences at level 2': 98.0}\n",
      "{'nb sentences seen': 315000, 'val_loss': 0.09750240296125412, 'train_loss': 0.04911837913095951, 'accuracy': 95.0, 'learning_rate': 0.0005987205785957031, '% of correct sentences at level 0': 95.0, '% of correct sentences at level 1': 95.0, '% of correct sentences at level 2': 96.0}\n",
      "{'nb sentences seen': 320000, 'val_loss': 0.09770604223012924, 'train_loss': 0.04888472221791744, 'accuracy': 90.0, 'learning_rate': 0.0005986790080596989, '% of correct sentences at level 0': 90.0, '% of correct sentences at level 1': 90.0, '% of correct sentences at level 2': 90.0}\n",
      "{'nb sentences seen': 325000, 'val_loss': 0.09777860343456268, 'train_loss': 0.048894690498709675, 'accuracy': 94.0, 'learning_rate': 0.0005986367745849509, '% of correct sentences at level 0': 94.0, '% of correct sentences at level 1': 94.0, '% of correct sentences at level 2': 94.0}\n",
      "{'nb sentences seen': 330000, 'val_loss': 0.09779109060764313, 'train_loss': 0.04898069322109223, 'accuracy': 94.0, 'learning_rate': 0.0005985938782756661, '% of correct sentences at level 0': 94.0, '% of correct sentences at level 1': 94.0, '% of correct sentences at level 2': 94.0}\n",
      "{'nb sentences seen': 335000, 'val_loss': 0.09740570932626724, 'train_loss': 0.04881666123867035, 'accuracy': 99.0, 'learning_rate': 0.0005985503192376866, '% of correct sentences at level 0': 99.0, '% of correct sentences at level 1': 99.0, '% of correct sentences at level 2': 99.0}\n",
      "{'nb sentences seen': 340000, 'val_loss': 0.09760352224111557, 'train_loss': 0.048984261006116865, 'accuracy': 100.0, 'learning_rate': 0.0005985060975784902, '% of correct sentences at level 0': 100.0, '% of correct sentences at level 1': 100.0, '% of correct sentences at level 2': 100.0}\n",
      "{'nb sentences seen': 345000, 'val_loss': 0.0974484235048294, 'train_loss': 0.048865234404802324, 'accuracy': 97.0, 'learning_rate': 0.0005984612134071897, '% of correct sentences at level 0': 97.0, '% of correct sentences at level 1': 97.0, '% of correct sentences at level 2': 98.0}\n",
      "{'nb sentences seen': 350000, 'val_loss': 0.09799738228321075, 'train_loss': 0.048841712698340416, 'accuracy': 88.0, 'learning_rate': 0.0005984156668345317, '% of correct sentences at level 0': 88.0, '% of correct sentences at level 1': 88.0, '% of correct sentences at level 2': 88.0}\n",
      "{'nb sentences seen': 370000, 'val_loss': 0.09752106666564941, 'train_loss': 0.04887910060584545, 'accuracy': 96.0, 'learning_rate': 0.0005982268588024719, '% of correct sentences at level 0': 96.0, '% of correct sentences at level 1': 96.0, '% of correct sentences at level 2': 96.0}\n",
      "{'nb sentences seen': 375000, 'val_loss': 0.09739498049020767, 'train_loss': 0.048814307898283005, 'accuracy': 98.0, 'learning_rate': 0.0005981780019414316, '% of correct sentences at level 0': 98.0, '% of correct sentences at level 1': 98.0, '% of correct sentences at level 2': 98.0}\n",
      "{'nb sentences seen': 380000, 'val_loss': 0.0976945087313652, 'train_loss': 0.048854702040553095, 'accuracy': 99.0, 'learning_rate': 0.00059812848337783, '% of correct sentences at level 0': 99.0, '% of correct sentences at level 1': 99.0, '% of correct sentences at level 2': 99.0}\n",
      "{'nb sentences seen': 385000, 'val_loss': 0.09756016731262207, 'train_loss': 0.04881546512246132, 'accuracy': 98.0, 'learning_rate': 0.0005980783032338496, '% of correct sentences at level 0': 98.0, '% of correct sentences at level 1': 98.0, '% of correct sentences at level 2': 98.0}\n",
      "{'nb sentences seen': 390000, 'val_loss': 0.09746064990758896, 'train_loss': 0.04881671987473965, 'accuracy': 98.0, 'learning_rate': 0.0005980274616333048, '% of correct sentences at level 0': 98.0, '% of correct sentences at level 1': 98.0, '% of correct sentences at level 2': 98.0}\n",
      "{'nb sentences seen': 395000, 'val_loss': 0.0976620465517044, 'train_loss': 0.04889683499932289, 'accuracy': 94.0, 'learning_rate': 0.0005979759587016423, '% of correct sentences at level 0': 94.0, '% of correct sentences at level 1': 94.0, '% of correct sentences at level 2': 94.0}\n",
      "{'nb sentences seen': 400000, 'val_loss': 0.09845076501369476, 'train_loss': 0.048767071366310116, 'accuracy': 85.0, 'learning_rate': 0.0005979237945659404, '% of correct sentences at level 0': 85.0, '% of correct sentences at level 1': 85.0, '% of correct sentences at level 2': 85.0}\n",
      "{'nb sentences seen': 405000, 'val_loss': 0.09743881225585938, 'train_loss': 0.04883304804563522, 'accuracy': 99.0, 'learning_rate': 0.000597870969354909, '% of correct sentences at level 0': 99.0, '% of correct sentences at level 1': 99.0, '% of correct sentences at level 2': 99.0}\n",
      "{'nb sentences seen': 410000, 'val_loss': 0.09747475385665894, 'train_loss': 0.048838984370231625, 'accuracy': 99.0, 'learning_rate': 0.0005978174831988887, '% of correct sentences at level 0': 99.0, '% of correct sentences at level 1': 99.0, '% of correct sentences at level 2': 99.0}\n",
      "{'nb sentences seen': 415000, 'val_loss': 0.09758136421442032, 'train_loss': 0.048792479112744334, 'accuracy': 96.0, 'learning_rate': 0.000597763336229852, '% of correct sentences at level 0': 96.0, '% of correct sentences at level 1': 96.0, '% of correct sentences at level 2': 96.0}\n",
      "{'nb sentences seen': 420000, 'val_loss': 0.097661092877388, 'train_loss': 0.0488364589959383, 'accuracy': 100.0, 'learning_rate': 0.0005977085285814004, '% of correct sentences at level 0': 100.0, '% of correct sentences at level 1': 100.0, '% of correct sentences at level 2': 100.0}\n",
      "{'nb sentences seen': 425000, 'val_loss': 0.09742417931556702, 'train_loss': 0.048777038082480434, 'accuracy': 99.0, 'learning_rate': 0.0005976530603887668, '% of correct sentences at level 0': 99.0, '% of correct sentences at level 1': 99.0, '% of correct sentences at level 2': 99.0}\n",
      "{'nb sentences seen': 430000, 'val_loss': 0.0974971279501915, 'train_loss': 0.04888184204697609, 'accuracy': 95.0, 'learning_rate': 0.0005975969317888131, '% of correct sentences at level 0': 95.0, '% of correct sentences at level 1': 95.0, '% of correct sentences at level 2': 95.0}\n",
      "{'nb sentences seen': 435000, 'val_loss': 0.0978294312953949, 'train_loss': 0.04878007546067238, 'accuracy': 98.0, 'learning_rate': 0.0005975401429200314, '% of correct sentences at level 0': 98.0, '% of correct sentences at level 1': 98.0, '% of correct sentences at level 2': 98.0}\n",
      "{'nb sentences seen': 440000, 'val_loss': 0.09875316917896271, 'train_loss': 0.04883353561162949, 'accuracy': 75.0, 'learning_rate': 0.0005974826939225423, '% of correct sentences at level 0': 75.0, '% of correct sentences at level 1': 75.0, '% of correct sentences at level 2': 75.0}\n",
      "{'nb sentences seen': 445000, 'val_loss': 0.09810387343168259, 'train_loss': 0.04890571929514408, 'accuracy': 78.0, 'learning_rate': 0.0005974245849380956, '% of correct sentences at level 0': 78.0, '% of correct sentences at level 1': 78.0, '% of correct sentences at level 2': 78.0}\n",
      "{'nb sentences seen': 450000, 'val_loss': 0.09762828052043915, 'train_loss': 0.04878838211297989, 'accuracy': 98.0, 'learning_rate': 0.0005973658161100698, '% of correct sentences at level 0': 98.0, '% of correct sentences at level 1': 98.0, '% of correct sentences at level 2': 98.0}\n",
      "{'nb sentences seen': 455000, 'val_loss': 0.09745058417320251, 'train_loss': 0.048804941624403, 'accuracy': 97.0, 'learning_rate': 0.0005973063875834704, '% of correct sentences at level 0': 97.0, '% of correct sentences at level 1': 97.0, '% of correct sentences at level 2': 97.0}\n",
      "{'nb sentences seen': 460000, 'val_loss': 0.09777279943227768, 'train_loss': 0.048816914707422256, 'accuracy': 95.0, 'learning_rate': 0.000597246299504932, '% of correct sentences at level 0': 95.0, '% of correct sentences at level 1': 95.0, '% of correct sentences at level 2': 95.0}\n",
      "{'nb sentences seen': 465000, 'val_loss': 0.09785208106040955, 'train_loss': 0.0488968975096941, 'accuracy': 95.0, 'learning_rate': 0.0005971855520227156, '% of correct sentences at level 0': 95.0, '% of correct sentences at level 1': 95.0, '% of correct sentences at level 2': 95.0}\n",
      "{'nb sentences seen': 470000, 'val_loss': 0.09739242494106293, 'train_loss': 0.0488198184221983, 'accuracy': 99.0, 'learning_rate': 0.0005971241452867098, '% of correct sentences at level 0': 99.0, '% of correct sentences at level 1': 99.0, '% of correct sentences at level 2': 99.0}\n",
      "{'nb sentences seen': 475000, 'val_loss': 0.09745094180107117, 'train_loss': 0.04880065463483334, 'accuracy': 100.0, 'learning_rate': 0.0005970620794484296, '% of correct sentences at level 0': 100.0, '% of correct sentences at level 1': 100.0, '% of correct sentences at level 2': 100.0}\n",
      "{'nb sentences seen': 480000, 'val_loss': 0.09725430607795715, 'train_loss': 0.04876750536262989, 'accuracy': 99.0, 'learning_rate': 0.0005969993546610162, '% of correct sentences at level 0': 99.0, '% of correct sentences at level 1': 99.0, '% of correct sentences at level 2': 99.0}\n",
      "{'nb sentences seen': 485000, 'val_loss': 0.09749133884906769, 'train_loss': 0.04880712807178497, 'accuracy': 100.0, 'learning_rate': 0.0005969359710792366, '% of correct sentences at level 0': 100.0, '% of correct sentences at level 1': 100.0, '% of correct sentences at level 2': 100.0}\n",
      "{'nb sentences seen': 490000, 'val_loss': 0.09776612371206284, 'train_loss': 0.04879683189094067, 'accuracy': 98.0, 'learning_rate': 0.000596871928859484, '% of correct sentences at level 0': 98.0, '% of correct sentences at level 1': 98.0, '% of correct sentences at level 2': 99.0}\n",
      "{'nb sentences seen': 495000, 'val_loss': 0.09776925295591354, 'train_loss': 0.04881291650235653, 'accuracy': 92.0, 'learning_rate': 0.0005968072281597758, '% of correct sentences at level 0': 92.0, '% of correct sentences at level 1': 92.0, '% of correct sentences at level 2': 92.0}\n",
      "{'nb sentences seen': 500000, 'val_loss': 0.09729374200105667, 'train_loss': 0.0488171610981226, 'accuracy': 97.0, 'learning_rate': 0.0005967418691397543, '% of correct sentences at level 0': 97.0, '% of correct sentences at level 1': 97.0, '% of correct sentences at level 2': 97.0}\n",
      "{'nb sentences seen': 505000, 'val_loss': 0.0975065529346466, 'train_loss': 0.04875894658267498, 'accuracy': 96.0, 'learning_rate': 0.0005966758519606872, '% of correct sentences at level 0': 96.0, '% of correct sentences at level 1': 96.0, '% of correct sentences at level 2': 96.0}\n",
      "{'nb sentences seen': 510000, 'val_loss': 0.09770144522190094, 'train_loss': 0.04876028545200825, 'accuracy': 98.0, 'learning_rate': 0.0005966091767854644, '% of correct sentences at level 0': 98.0, '% of correct sentences at level 1': 98.0, '% of correct sentences at level 2': 98.0}\n",
      "{'nb sentences seen': 515000, 'val_loss': 0.09750083088874817, 'train_loss': 0.04879126310348511, 'accuracy': 99.0, 'learning_rate': 0.0005965418437786012, '% of correct sentences at level 0': 99.0, '% of correct sentences at level 1': 99.0, '% of correct sentences at level 2': 99.0}\n",
      "{'nb sentences seen': 520000, 'val_loss': 0.09756044298410416, 'train_loss': 0.04876079238951206, 'accuracy': 98.0, 'learning_rate': 0.0005964738531062342, '% of correct sentences at level 0': 98.0, '% of correct sentences at level 1': 98.0, '% of correct sentences at level 2': 98.0}\n",
      "{'nb sentences seen': 525000, 'val_loss': 0.09730595350265503, 'train_loss': 0.04875395603477955, 'accuracy': 98.0, 'learning_rate': 0.0005964052049361242, '% of correct sentences at level 0': 98.0, '% of correct sentences at level 1': 98.0, '% of correct sentences at level 2': 98.0}\n",
      "{'nb sentences seen': 530000, 'val_loss': 0.097628153860569, 'train_loss': 0.04874982215464115, 'accuracy': 94.0, 'learning_rate': 0.0005963358994376536, '% of correct sentences at level 0': 94.0, '% of correct sentences at level 1': 94.0, '% of correct sentences at level 2': 94.0}\n",
      "{'nb sentences seen': 535000, 'val_loss': 0.09752862900495529, 'train_loss': 0.048838943690061566, 'accuracy': 99.0, 'learning_rate': 0.0005962659367818269, '% of correct sentences at level 0': 99.0, '% of correct sentences at level 1': 99.0, '% of correct sentences at level 2': 99.0}\n",
      "{'nb sentences seen': 540000, 'val_loss': 0.0974825844168663, 'train_loss': 0.04883732043206692, 'accuracy': 100.0, 'learning_rate': 0.0005961953171412697, '% of correct sentences at level 0': 100.0, '% of correct sentences at level 1': 100.0, '% of correct sentences at level 2': 100.0}\n",
      "{'nb sentences seen': 545000, 'val_loss': 0.09752585738897324, 'train_loss': 0.04879964545369148, 'accuracy': 97.0, 'learning_rate': 0.0005961240406902294, '% of correct sentences at level 0': 97.0, '% of correct sentences at level 1': 97.0, '% of correct sentences at level 2': 97.0}\n",
      "{'nb sentences seen': 550000, 'val_loss': 0.09731602668762207, 'train_loss': 0.04875854678452015, 'accuracy': 100.0, 'learning_rate': 0.0005960521076045732, '% of correct sentences at level 0': 100.0, '% of correct sentences at level 1': 100.0, '% of correct sentences at level 2': 100.0}\n",
      "{'nb sentences seen': 555000, 'val_loss': 0.0987984761595726, 'train_loss': 0.04881078906357288, 'accuracy': 93.0, 'learning_rate': 0.0005959795180617887, '% of correct sentences at level 0': 93.0, '% of correct sentences at level 1': 93.0, '% of correct sentences at level 2': 93.0}\n",
      "{'nb sentences seen': 560000, 'val_loss': 0.09760770946741104, 'train_loss': 0.048779303953051564, 'accuracy': 99.0, 'learning_rate': 0.0005959062722409839, '% of correct sentences at level 0': 99.0, '% of correct sentences at level 1': 99.0, '% of correct sentences at level 2': 99.0}\n"
     ]
    }
   ],
   "source": [
    "wandb.init(project='CFG-Experiments',,config=training_parameters, name=f'GPT {million_params:.1f}M temp=0.1')\n",
    "wandb.watch(m, log='all')\n",
    "\n",
    "train(m)\n",
    "wandb.finish()"
   ]
  },
  {
   "cell_type": "code",
   "execution_count": null,
   "id": "8f31afdb-d58b-4ac2-9239-295d44a5588f",
   "metadata": {},
   "outputs": [],
   "source": []
  }
 ],
 "metadata": {
  "kernelspec": {
   "display_name": "Python 3 (ipykernel)",
   "language": "python",
   "name": "python3"
  },
  "language_info": {
   "codemirror_mode": {
    "name": "ipython",
    "version": 3
   },
   "file_extension": ".py",
   "mimetype": "text/x-python",
   "name": "python",
   "nbconvert_exporter": "python",
   "pygments_lexer": "ipython3",
   "version": "3.8.10"
  }
 },
 "nbformat": 4,
 "nbformat_minor": 5
}
